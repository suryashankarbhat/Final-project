{
 "cells": [
  {
   "cell_type": "code",
   "execution_count": 1,
   "id": "945394bf",
   "metadata": {},
   "outputs": [],
   "source": [
    "#to resize the image\n",
    "#code is referenced from the below link\n",
    "#https://holypython.com/how-to-batch-resize-multiple-images-in-python-via-pil-library/\n",
    "import PIL\n",
    "import os\n",
    "from PIL import Image\n",
    "\n"
   ]
  },
  {
   "cell_type": "code",
   "execution_count": 629,
   "id": "b47a3c9b",
   "metadata": {},
   "outputs": [],
   "source": [
    "#all the image is resized by changing the folder name below\n",
    "f=r\"C:\\Users\\Computing\\Downloads\\DATASET\\DATASET\\warehouse dataset simulation\\TABLE-dataset\\Table3\\uniform_lighting conditions\\box_z-0.2\""
   ]
  },
  {
   "cell_type": "code",
   "execution_count": 626,
   "id": "93d44076",
   "metadata": {},
   "outputs": [
    {
     "data": {
      "text/plain": [
       "['image.png',\n",
       " 'image120.png',\n",
       " 'image150.png',\n",
       " 'image180.png',\n",
       " 'image210.png',\n",
       " 'image240.png',\n",
       " 'image270.png',\n",
       " 'image30.png',\n",
       " 'image300.png',\n",
       " 'image330.png',\n",
       " 'image60.png',\n",
       " 'image90.png']"
      ]
     },
     "execution_count": 626,
     "metadata": {},
     "output_type": "execute_result"
    }
   ],
   "source": [
    "\n",
    "\n",
    "os.listdir(f)\n",
    "\n"
   ]
  },
  {
   "cell_type": "code",
   "execution_count": 627,
   "id": "4a47993b",
   "metadata": {},
   "outputs": [],
   "source": [
    "\n",
    "\n",
    "\n",
    "for file in os.listdir(f):\n",
    "    f_img = f+\"/\"+file\n",
    "    img = Image.open(f_img)\n",
    "    img = img.resize((256,256))\n",
    "    img.save(f_img)\n",
    "\n"
   ]
  },
  {
   "cell_type": "code",
   "execution_count": null,
   "id": "ecc32aa2",
   "metadata": {},
   "outputs": [],
   "source": [
    "#changing brightness  of the image for diffrernt illuminations"
   ]
  },
  {
   "cell_type": "code",
   "execution_count": 630,
   "id": "e62f8379",
   "metadata": {},
   "outputs": [],
   "source": [
    "from PIL import Image, ImageEnhance"
   ]
  },
  {
   "cell_type": "code",
   "execution_count": null,
   "id": "3cf691f3",
   "metadata": {},
   "outputs": [],
   "source": [
    "#reference from https://holypython.com/python-pil-tutorial/how-to-adjust-brightness-contrast-sharpness-and-saturation-of-images-in-python-pil/"
   ]
  },
  {
   "cell_type": "code",
   "execution_count": 631,
   "id": "1b213178",
   "metadata": {},
   "outputs": [],
   "source": [
    "f=r\"C:\\Users\\Computing\\Desktop\\images and icons low contrast\\Icons\\bed\""
   ]
  },
  {
   "cell_type": "code",
   "execution_count": 632,
   "id": "2844d6fd",
   "metadata": {},
   "outputs": [
    {
     "data": {
      "text/plain": [
       "['1.png',\n",
       " '2.png',\n",
       " '23.png',\n",
       " '3.png',\n",
       " '34.png',\n",
       " 'dff.png',\n",
       " 'dfggh.png',\n",
       " 'e.png',\n",
       " 'ee.png',\n",
       " 'eee.png',\n",
       " 'fggg.png',\n",
       " 'gbgg.png',\n",
       " 'rr.png',\n",
       " 'rrf.png',\n",
       " 'skechesbed (1).png',\n",
       " 'skechesbed (12).png',\n",
       " 'skechesbed (13).png',\n",
       " 'skechesbed (14).png',\n",
       " 'skechesbed (15).png',\n",
       " 'skechesbed (16).png',\n",
       " 'skechesbed (17).png',\n",
       " 'skechesbed (18).png',\n",
       " 'skechesbed (19).png',\n",
       " 'skechesbed (2).png',\n",
       " 'skechesbed (20).png',\n",
       " 'skechesbed (21).png',\n",
       " 'skechesbed (22).png',\n",
       " 'skechesbed (23).png',\n",
       " 'skechesbed (2323.png',\n",
       " 'skechesbed (24).png',\n",
       " 'skechesbed (25).png',\n",
       " 'skechesbed (26).png',\n",
       " 'skechesbed (27).png',\n",
       " 'skechesbed (28).png',\n",
       " 'skechesbed (29).png',\n",
       " 'skechesbed (3).png',\n",
       " 'skechesbed (30).png',\n",
       " 'skechesbed (31).png',\n",
       " 'skechesbed (32).png',\n",
       " 'skechesbed (33).png',\n",
       " 'skechesbed (34).png',\n",
       " 'skechesbed (35).png',\n",
       " 'skechesbed (7).png',\n",
       " 'skechesbed (8).png',\n",
       " 'skechesbed 2.png',\n",
       " 'skechesbed 21.png']"
      ]
     },
     "execution_count": 632,
     "metadata": {},
     "output_type": "execute_result"
    }
   ],
   "source": [
    "os.listdir(f)\n"
   ]
  },
  {
   "cell_type": "code",
   "execution_count": 637,
   "id": "d7878d47",
   "metadata": {},
   "outputs": [
    {
     "ename": "TypeError",
     "evalue": "filter argument should be ImageFilter.Filter instance or class",
     "output_type": "error",
     "traceback": [
      "\u001b[1;31m---------------------------------------------------------------------------\u001b[0m",
      "\u001b[1;31mTypeError\u001b[0m                                 Traceback (most recent call last)",
      "\u001b[1;32m<ipython-input-637-c1d18a3506af>\u001b[0m in \u001b[0;36m<module>\u001b[1;34m\u001b[0m\n\u001b[0;32m      3\u001b[0m     \u001b[0mimg\u001b[0m \u001b[1;33m=\u001b[0m \u001b[0mImage\u001b[0m\u001b[1;33m.\u001b[0m\u001b[0mopen\u001b[0m\u001b[1;33m(\u001b[0m\u001b[0mf_img\u001b[0m\u001b[1;33m)\u001b[0m\u001b[1;33m\u001b[0m\u001b[1;33m\u001b[0m\u001b[0m\n\u001b[0;32m      4\u001b[0m     \u001b[0mfilter\u001b[0m \u001b[1;33m=\u001b[0m \u001b[0mImageEnhance\u001b[0m\u001b[1;33m.\u001b[0m\u001b[0mBrightness\u001b[0m\u001b[1;33m(\u001b[0m\u001b[0mimg\u001b[0m\u001b[1;33m)\u001b[0m\u001b[1;33m\u001b[0m\u001b[1;33m\u001b[0m\u001b[0m\n\u001b[1;32m----> 5\u001b[1;33m     \u001b[0mimg\u001b[0m \u001b[1;33m=\u001b[0m \u001b[0mimg\u001b[0m\u001b[1;33m.\u001b[0m\u001b[0mfilter\u001b[0m\u001b[1;33m(\u001b[0m\u001b[1;36m1.2\u001b[0m\u001b[1;33m)\u001b[0m\u001b[1;33m\u001b[0m\u001b[1;33m\u001b[0m\u001b[0m\n\u001b[0m\u001b[0;32m      6\u001b[0m     \u001b[0mimg\u001b[0m\u001b[1;33m.\u001b[0m\u001b[0msave\u001b[0m\u001b[1;33m(\u001b[0m\u001b[0mf_img\u001b[0m\u001b[1;33m)\u001b[0m\u001b[1;33m\u001b[0m\u001b[1;33m\u001b[0m\u001b[0m\n\u001b[0;32m      7\u001b[0m \u001b[1;33m\u001b[0m\u001b[0m\n",
      "\u001b[1;32mC:\\ProgramData\\Anaconda3\\lib\\site-packages\\PIL\\Image.py\u001b[0m in \u001b[0;36mfilter\u001b[1;34m(self, filter)\u001b[0m\n\u001b[0;32m   1208\u001b[0m             \u001b[0mfilter\u001b[0m \u001b[1;33m=\u001b[0m \u001b[0mfilter\u001b[0m\u001b[1;33m(\u001b[0m\u001b[1;33m)\u001b[0m\u001b[1;33m\u001b[0m\u001b[1;33m\u001b[0m\u001b[0m\n\u001b[0;32m   1209\u001b[0m         \u001b[1;32mif\u001b[0m \u001b[1;32mnot\u001b[0m \u001b[0mhasattr\u001b[0m\u001b[1;33m(\u001b[0m\u001b[0mfilter\u001b[0m\u001b[1;33m,\u001b[0m \u001b[1;34m\"filter\"\u001b[0m\u001b[1;33m)\u001b[0m\u001b[1;33m:\u001b[0m\u001b[1;33m\u001b[0m\u001b[1;33m\u001b[0m\u001b[0m\n\u001b[1;32m-> 1210\u001b[1;33m             raise TypeError(\n\u001b[0m\u001b[0;32m   1211\u001b[0m                 \u001b[1;34m\"filter argument should be ImageFilter.Filter instance or class\"\u001b[0m\u001b[1;33m\u001b[0m\u001b[1;33m\u001b[0m\u001b[0m\n\u001b[0;32m   1212\u001b[0m             )\n",
      "\u001b[1;31mTypeError\u001b[0m: filter argument should be ImageFilter.Filter instance or class"
     ]
    }
   ],
   "source": [
    "for file in os.listdir(f):\n",
    "    f_img = f+\"/\"+file\n",
    "    img = Image.open(f_img)\n",
    "    filter = ImageEnhance.Brightness(img)\n",
    "    img = img.filter(1.2)\n",
    "    img.save(f_img)\n",
    "\n"
   ]
  },
  {
   "cell_type": "code",
   "execution_count": null,
   "id": "8ba35a0c",
   "metadata": {},
   "outputs": [],
   "source": []
  },
  {
   "cell_type": "code",
   "execution_count": null,
   "id": "a69c8f97",
   "metadata": {},
   "outputs": [],
   "source": []
  }
 ],
 "metadata": {
  "kernelspec": {
   "display_name": "Python 3",
   "language": "python",
   "name": "python3"
  },
  "language_info": {
   "codemirror_mode": {
    "name": "ipython",
    "version": 3
   },
   "file_extension": ".py",
   "mimetype": "text/x-python",
   "name": "python",
   "nbconvert_exporter": "python",
   "pygments_lexer": "ipython3",
   "version": "3.8.8"
  }
 },
 "nbformat": 4,
 "nbformat_minor": 5
}
